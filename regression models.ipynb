{
 "cells": [
  {
   "cell_type": "code",
   "execution_count": 10,
   "metadata": {},
   "outputs": [],
   "source": [
    "#This suppresses the warning messages from the jupyter cells \n",
    "import warnings\n",
    "warnings.filterwarnings('ignore')\n",
    "\n",
    "\n",
    "import pandas as pd\n",
    "import numpy as np\n",
    "\n",
    "#This reads in the entire dataset\n",
    "df = pd.read_csv('Nationwide Police Data - Sheet1.csv')"
   ]
  },
  {
   "cell_type": "code",
   "execution_count": 11,
   "metadata": {},
   "outputs": [],
   "source": [
    "#remove county level police departments to focus on municipal level\n",
    "df_city = df[df[\"agency_type\"] != \"sheriff\"]\n",
    "\n",
    "#remove municipal police departments to focus on county level\n",
    "df_county = df[df[\"agency_type\"] == \"sheriff\"]"
   ]
  },
  {
   "cell_type": "code",
   "execution_count": 12,
   "metadata": {},
   "outputs": [],
   "source": [
    "#remove the dollar sign and convert budget to numbers \n",
    "df_city[\"calc_police_spending_per_resident\"] = df_city[\"calc_police_spending_per_resident\"].replace('[\\$,]', '', regex=True).astype(float)\n",
    "df_city[\"Minimum Officer Salary 2013\"] = df_city[\"Minimum Officer Salary 2013\"].replace('[\\$,]', '', regex=True).astype(float)\n",
    "df_city[\"Maximum Officer Salary 2013\"] = df_city[\"Maximum Officer Salary 2013\"].replace('[\\$,]', '', regex=True).astype(float)\n"
   ]
  },
  {
   "cell_type": "code",
   "execution_count": 19,
   "metadata": {},
   "outputs": [],
   "source": [
    "import statsmodels.api as sm\n",
    "\n",
    "X = df_city[['calc_less_lethal_per_10k_arrests','calc_killed_by_police_per_10k_arrests', 'calc_unarmed_killed_by_police_per_10k_arrests', 'calc_low_level_arrests_per_1k_population',\n",
    "             'calc_black_drug_arrest_disparity', 'calc_black_deadly_force_disparity_per_arrest', 'Minimum Officer Salary 2013', 'Maximum Officer Salary 2013', 'civilian_complaints_reported']] \n",
    "Y = df_city['calc_police_spending_per_resident']"
   ]
  },
  {
   "cell_type": "code",
   "execution_count": 20,
   "metadata": {},
   "outputs": [
    {
     "name": "stdout",
     "output_type": "stream",
     "text": [
      "                                    OLS Regression Results                                   \n",
      "=============================================================================================\n",
      "Dep. Variable:     calc_police_spending_per_resident   R-squared:                       0.395\n",
      "Model:                                           OLS   Adj. R-squared:                  0.279\n",
      "Method:                                Least Squares   F-statistic:                     3.404\n",
      "Date:                               Sun, 28 Jun 2020   Prob (F-statistic):            0.00272\n",
      "Time:                                       19:38:34   Log-Likelihood:                -348.24\n",
      "No. Observations:                                 57   AIC:                             716.5\n",
      "Df Residuals:                                     47   BIC:                             736.9\n",
      "Df Model:                                          9                                         \n",
      "Covariance Type:                           nonrobust                                         \n",
      "=================================================================================================================\n",
      "                                                    coef    std err          t      P>|t|      [0.025      0.975]\n",
      "-----------------------------------------------------------------------------------------------------------------\n",
      "const                                           -16.6970    102.407     -0.163      0.871    -222.713     189.319\n",
      "calc_less_lethal_per_10k_arrests                 -0.0651      0.239     -0.272      0.786      -0.546       0.416\n",
      "calc_killed_by_police_per_10k_arrests             6.6535     12.165      0.547      0.587     -17.818      31.125\n",
      "calc_unarmed_killed_by_police_per_10k_arrests   -17.7045     43.234     -0.410      0.684    -104.680      69.271\n",
      "calc_low_level_arrests_per_1k_population          0.5834      0.325      1.794      0.079      -0.071       1.238\n",
      "calc_black_drug_arrest_disparity                  8.3296      6.723      1.239      0.221      -5.195      21.854\n",
      "calc_black_deadly_force_disparity_per_arrest     14.5541     12.718      1.144      0.258     -11.032      40.140\n",
      "Minimum Officer Salary 2013                      -0.0012      0.002     -0.644      0.523      -0.005       0.003\n",
      "Maximum Officer Salary 2013                       0.0039      0.002      2.390      0.021       0.001       0.007\n",
      "civilian_complaints_reported                      0.0252      0.008      3.025      0.004       0.008       0.042\n",
      "==============================================================================\n",
      "Omnibus:                       18.460   Durbin-Watson:                   1.579\n",
      "Prob(Omnibus):                  0.000   Jarque-Bera (JB):               26.624\n",
      "Skew:                           1.149   Prob(JB):                     1.65e-06\n",
      "Kurtosis:                       5.435   Cond. No.                     6.29e+05\n",
      "==============================================================================\n",
      "\n",
      "Warnings:\n",
      "[1] Standard Errors assume that the covariance matrix of the errors is correctly specified.\n",
      "[2] The condition number is large, 6.29e+05. This might indicate that there are\n",
      "strong multicollinearity or other numerical problems.\n"
     ]
    }
   ],
   "source": [
    "X = sm.add_constant(X)\n",
    "\n",
    "model = sm.OLS(Y, X, missing='drop').fit()\n",
    "predictions = model.predict(X) \n",
    " \n",
    "print_model = model.summary()\n",
    "print(print_model)"
   ]
  },
  {
   "cell_type": "code",
   "execution_count": 15,
   "metadata": {},
   "outputs": [],
   "source": [
    "#remove the dollar sign and convert budget to numbers \n",
    "df_county[\"calc_police_spending_per_resident\"] = df_county[\"calc_police_spending_per_resident\"].replace('[\\$,]', '', regex=True).astype(float)\n",
    "df_county[\"Minimum Officer Salary 2013\"] = df_county[\"Minimum Officer Salary 2013\"].replace('[\\$,]', '', regex=True).astype(float)\n",
    "df_county[\"Maximum Officer Salary 2013\"] = df_county[\"Maximum Officer Salary 2013\"].replace('[\\$,]', '', regex=True).astype(float)\n",
    "\n",
    "X2 = df_county[['calc_less_lethal_per_10k_arrests','calc_killed_by_police_per_10k_arrests', 'calc_unarmed_killed_by_police_per_10k_arrests', 'calc_low_level_arrests_per_1k_population',\n",
    "             'calc_black_drug_arrest_disparity', 'calc_black_deadly_force_disparity_per_arrest', 'Minimum Officer Salary 2013', 'Maximum Officer Salary 2013']] \n",
    "Y2 = df_county['calc_police_spending_per_resident']"
   ]
  },
  {
   "cell_type": "code",
   "execution_count": 16,
   "metadata": {},
   "outputs": [
    {
     "name": "stdout",
     "output_type": "stream",
     "text": [
      "                                    OLS Regression Results                                   \n",
      "=============================================================================================\n",
      "Dep. Variable:     calc_police_spending_per_resident   R-squared:                       1.000\n",
      "Model:                                           OLS   Adj. R-squared:                  0.997\n",
      "Method:                                Least Squares   F-statistic:                     412.8\n",
      "Date:                               Sun, 28 Jun 2020   Prob (F-statistic):             0.0380\n",
      "Time:                                       19:26:45   Log-Likelihood:                -39.822\n",
      "No. Observations:                                 10   AIC:                             97.64\n",
      "Df Residuals:                                      1   BIC:                             100.4\n",
      "Df Model:                                          8                                         \n",
      "Covariance Type:                           nonrobust                                         \n",
      "=================================================================================================================\n",
      "                                                    coef    std err          t      P>|t|      [0.025      0.975]\n",
      "-----------------------------------------------------------------------------------------------------------------\n",
      "const                                         -5532.0444    296.138    -18.681      0.034   -9294.830   -1769.259\n",
      "calc_less_lethal_per_10k_arrests                  2.7596      0.108     25.613      0.025       1.391       4.129\n",
      "calc_killed_by_police_per_10k_arrests          -707.5858     37.885    -18.677      0.034   -1188.959    -226.213\n",
      "calc_unarmed_killed_by_police_per_10k_arrests  3019.0867    224.816     13.429      0.047     162.530    5875.643\n",
      "calc_low_level_arrests_per_1k_population         13.5537      0.639     21.221      0.030       5.438      21.669\n",
      "calc_black_drug_arrest_disparity                -85.9463      9.116     -9.428      0.067    -201.779      29.887\n",
      "calc_black_deadly_force_disparity_per_arrest   -123.7696     26.271     -4.711      0.133    -457.578     210.038\n",
      "Minimum Officer Salary 2013                       0.0565      0.003     16.532      0.038       0.013       0.100\n",
      "Maximum Officer Salary 2013                       0.0361      0.003     10.939      0.058      -0.006       0.078\n",
      "==============================================================================\n",
      "Omnibus:                        0.199   Durbin-Watson:                   1.646\n",
      "Prob(Omnibus):                  0.905   Jarque-Bera (JB):                0.355\n",
      "Skew:                           0.224   Prob(JB):                        0.837\n",
      "Kurtosis:                       2.192   Cond. No.                     2.02e+06\n",
      "==============================================================================\n",
      "\n",
      "Warnings:\n",
      "[1] Standard Errors assume that the covariance matrix of the errors is correctly specified.\n",
      "[2] The condition number is large, 2.02e+06. This might indicate that there are\n",
      "strong multicollinearity or other numerical problems.\n"
     ]
    }
   ],
   "source": [
    "X2 = sm.add_constant(X2)\n",
    "\n",
    "model2 = sm.OLS(Y2, X2, missing='drop').fit()\n",
    "predictions2 = model2.predict(X2) \n",
    " \n",
    "print_model2 = model2.summary()\n",
    "print(print_model2)"
   ]
  },
  {
   "cell_type": "code",
   "execution_count": null,
   "metadata": {},
   "outputs": [],
   "source": []
  }
 ],
 "metadata": {
  "kernelspec": {
   "display_name": "Python 3",
   "language": "python",
   "name": "python3"
  },
  "language_info": {
   "codemirror_mode": {
    "name": "ipython",
    "version": 3
   },
   "file_extension": ".py",
   "mimetype": "text/x-python",
   "name": "python",
   "nbconvert_exporter": "python",
   "pygments_lexer": "ipython3",
   "version": "3.7.7"
  }
 },
 "nbformat": 4,
 "nbformat_minor": 2
}
